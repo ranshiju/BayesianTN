{
 "cells": [
  {
   "cell_type": "code",
   "execution_count": 1,
   "metadata": {
    "scrolled": false
   },
   "outputs": [
    {
     "name": "stdout",
     "output_type": "stream",
     "text": [
      "LINE:15, FUNC:<module>, FILE:<ipython-input-1-d965b63d8a0c>, TIME:2019-06-02 17:10:55.856389, CONTENT:\n",
      "[tensor: 1 * Size:(100, 10) | Memory: 0.0038 M | <class 'torch.Tensor'>]\n",
      "[tensor: 1 * Size:(64, 1000) | Memory: 0.2441 M | <class 'torch.Tensor'>]\n",
      "[tensor: 1 * Size:(64, 10) | Memory: 0.0024 M | <class 'torch.Tensor'>]\n",
      "[tensor: 1 * Size:(1000, 100) | Memory: 0.3814 M | <class 'torch.Tensor'>]\n",
      "memory_allocated:1.457520 Mb\n",
      "max_memory_allocated:1.457520 Mb\n",
      "memory_cached:2.000000 Mb\n",
      "max_memory_cached:2.000000 Mb\n",
      "Used Memory:9386.625000 Mb\n",
      "Free Memory:1782.625000 Mb\n",
      "Total Memory:11169.250000 Mb\n"
     ]
    },
    {
     "name": "stderr",
     "output_type": "stream",
     "text": [
      "/home/liuzy/.pytorch_gpu_memory_env/py3env/lib/python3.5/site-packages/torch/distributed/distributed_c10d.py:100: UserWarning: torch.distributed.reduce_op is deprecated, please use torch.distributed.ReduceOp instead\n",
      "  warnings.warn(\"torch.distributed.reduce_op is deprecated, please use \"\n"
     ]
    },
    {
     "name": "stdout",
     "output_type": "stream",
     "text": [
      "3.0322433303808793e-05\n",
      "LINE:29, FUNC:<module>, FILE:<ipython-input-1-d965b63d8a0c>, TIME:2019-06-02 17:10:56.354555, CONTENT:\n",
      "[tensor: 1 * Size:() | Memory: 3.8146 M | <class 'torch.Tensor'>]\n",
      "[tensor: 1 * Size:(100, 10) | Memory: 0.0038 M | <class 'torch.Tensor'>]\n",
      "[tensor: 2 * Size:(64, 10) | Memory: 0.0048 M | <class 'torch.Tensor'>]\n",
      "[tensor: 1 * Size:(64, 1000) | Memory: 0.2441 M | <class 'torch.Tensor'>]\n",
      "[tensor: 1 * Size:(1000, 100) | Memory: 0.3814 M | <class 'torch.Tensor'>]\n",
      "memory_allocated:1.846191 Mb\n",
      "max_memory_allocated:2.252930 Mb\n",
      "memory_cached:4.000000 Mb\n",
      "max_memory_cached:4.000000 Mb\n",
      "Used Memory:9392.625000 Mb\n",
      "Free Memory:1776.625000 Mb\n",
      "Total Memory:11169.250000 Mb\n"
     ]
    }
   ],
   "source": [
    "import torch\n",
    "from gpu_memory_log import gpu_memory_log\n",
    "\n",
    "dtype = torch.float\n",
    "N, D_in, H, D_out = 64, 1000, 100, 10\n",
    "\n",
    "device = torch.device(\"cuda\")\n",
    "x = torch.randn(N, D_in, device=device, dtype=dtype)\n",
    "y = torch.randn(N, D_out, device=device, dtype=dtype)\n",
    "\n",
    "w1 = torch.randn(D_in, H, device=device, dtype=dtype, requires_grad=True)\n",
    "w2 = torch.randn(H, D_out, device=device, dtype=dtype, requires_grad=True)\n",
    "\n",
    "learning_rate = 1e-6\n",
    "gpu_memory_log()\n",
    "for t in range(500):\n",
    "    y_pred = x.mm(w1).clamp(min=0).mm(w2)\n",
    "    loss = (y_pred - y).pow(2).sum()\n",
    "    #print(t, loss.item())\n",
    "    loss.backward()\n",
    "    with torch.no_grad():\n",
    "        w1 -= learning_rate * w1.grad\n",
    "        w2 -= learning_rate * w2.grad\n",
    "\n",
    "        w1.grad.zero_()\n",
    "        w2.grad.zero_()\n",
    "\n",
    "print(loss.item())\n",
    "gpu_memory_log()\n"
   ]
  },
  {
   "cell_type": "code",
   "execution_count": null,
   "metadata": {},
   "outputs": [],
   "source": []
  },
  {
   "cell_type": "code",
   "execution_count": null,
   "metadata": {},
   "outputs": [],
   "source": []
  },
  {
   "cell_type": "code",
   "execution_count": null,
   "metadata": {},
   "outputs": [],
   "source": []
  },
  {
   "cell_type": "code",
   "execution_count": null,
   "metadata": {},
   "outputs": [],
   "source": []
  },
  {
   "cell_type": "code",
   "execution_count": null,
   "metadata": {},
   "outputs": [],
   "source": []
  }
 ],
 "metadata": {
  "kernelspec": {
   "display_name": "Python 3",
   "language": "python",
   "name": "python3"
  },
  "language_info": {
   "codemirror_mode": {
    "name": "ipython",
    "version": 3
   },
   "file_extension": ".py",
   "mimetype": "text/x-python",
   "name": "python",
   "nbconvert_exporter": "python",
   "pygments_lexer": "ipython3",
   "version": "3.5.2"
  }
 },
 "nbformat": 4,
 "nbformat_minor": 1
}
